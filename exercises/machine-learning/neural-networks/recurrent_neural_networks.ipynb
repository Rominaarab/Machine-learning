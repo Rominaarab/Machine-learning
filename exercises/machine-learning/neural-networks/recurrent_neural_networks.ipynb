{
  "cells": [
    {
      "cell_type": "code",
      "source": [
        "n"
      ],
      "metadata": {
        "id": "41Ab2lKDjnNH"
      },
      "id": "41Ab2lKDjnNH",
      "execution_count": null,
      "outputs": []
    },
    {
      "cell_type": "markdown",
      "id": "korean-wednesday",
      "metadata": {
        "id": "korean-wednesday"
      },
      "source": [
        "# Recurrent Neural Networks\n",
        "You should build an end-to-end machine learning pipeline using a recurrent neural network model. In particular, you should do the following:\n",
        "- Load the `jena climate` dataset using [Pandas](https://pandas.pydata.org/docs/reference/api/pandas.read_csv.html). You can find this dataset in the [keras repository](https://keras.io/examples/timeseries/timeseries_weather_forecasting/).\n",
        "- Split the dataset into training, validation, and test sets. Note that you cannot split time series using [Scikit-Learn](https://keras.io/examples/timeseries/timeseries_weather_forecasting/).\n",
        "- Build an end-to-end machine learning pipeline, including a [recurrent neural network](https://keras.io/examples/timeseries/timeseries_weather_forecasting/) model.\n",
        "- Optimize your pipeline by validating your design decisions.\n",
        "- Test the best pipeline on the test set and report various [evaluation metrics](https://scikit-learn.org/0.15/modules/model_evaluation.html).  \n",
        "- Check the documentation to identify the most important hyperparameters, attributes, and methods of the model. Use them in practice."
      ]
    },
    {
      "cell_type": "code",
      "execution_count": null,
      "id": "infrared-copper",
      "metadata": {
        "id": "infrared-copper"
      },
      "outputs": [],
      "source": [
        "'''\n",
        "1. load the dataset\n",
        "2.take a sample of the data, for exapmle you can take a mesurements that belong to 12:00 every day\n",
        "3.SPLITING THE DATA into training validation and test sets (not randomly, timewise manner)\n",
        "4. you need to take the class creat sequencws of length N(for example 10)\n",
        "5.design and train your model with LSTM/GRU\n",
        "6.make prediction on the test and calculate R2 '''"
      ]
    },
    {
      "cell_type": "code",
      "source": [
        "import pandas as pd\n",
        "import matplotlib.pyplot as plt\n",
        "import keras"
      ],
      "metadata": {
        "id": "Qioq85lykzp-"
      },
      "id": "Qioq85lykzp-",
      "execution_count": 2,
      "outputs": []
    },
    {
      "cell_type": "markdown",
      "source": [
        "keep oin mind that C-born library is better than matplotlib"
      ],
      "metadata": {
        "id": "P3cjAN1-v-uX"
      },
      "id": "P3cjAN1-v-uX"
    },
    {
      "cell_type": "code",
      "source": [
        "from zipfile import ZipFile\n",
        "\n",
        "uri = \"https://storage.googleapis.com/tensorflow/tf-keras-datasets/jena_climate_2009_2016.csv.zip\"\n",
        "zip_path = keras.utils.get_file(origin=uri, fname=\"jena_climate_2009_2016.csv.zip\")\n",
        "zip_file = ZipFile(zip_path)\n",
        "zip_file.extractall()\n",
        "csv_path = \"jena_climate_2009_2016.csv\"\n",
        "\n",
        "df = pd.read_csv(csv_path)"
      ],
      "metadata": {
        "id": "j-QEAKQdkmyu",
        "outputId": "51807384-09d8-4110-dfb8-6c0b9ae78aa2",
        "colab": {
          "base_uri": "https://localhost:8080/"
        }
      },
      "id": "j-QEAKQdkmyu",
      "execution_count": 3,
      "outputs": [
        {
          "output_type": "stream",
          "name": "stdout",
          "text": [
            "Downloading data from https://storage.googleapis.com/tensorflow/tf-keras-datasets/jena_climate_2009_2016.csv.zip\n",
            "\u001b[1m13568290/13568290\u001b[0m \u001b[32m━━━━━━━━━━━━━━━━━━━━\u001b[0m\u001b[37m\u001b[0m \u001b[1m0s\u001b[0m 0us/step\n"
          ]
        }
      ]
    },
    {
      "cell_type": "code",
      "source": [
        "df.head()"
      ],
      "metadata": {
        "id": "tTCrd3JQnLDh",
        "outputId": "29abb9cb-d106-4af6-a4c1-3167e7d05ffd",
        "colab": {
          "base_uri": "https://localhost:8080/",
          "height": 347
        }
      },
      "id": "tTCrd3JQnLDh",
      "execution_count": 6,
      "outputs": [
        {
          "output_type": "execute_result",
          "data": {
            "text/plain": [
              "             Date Time  p (mbar)  T (degC)  Tpot (K)  Tdew (degC)  rh (%)  \\\n",
              "0  01.01.2009 00:10:00    996.52     -8.02    265.40        -8.90    93.3   \n",
              "1  01.01.2009 00:20:00    996.57     -8.41    265.01        -9.28    93.4   \n",
              "2  01.01.2009 00:30:00    996.53     -8.51    264.91        -9.31    93.9   \n",
              "3  01.01.2009 00:40:00    996.51     -8.31    265.12        -9.07    94.2   \n",
              "4  01.01.2009 00:50:00    996.51     -8.27    265.15        -9.04    94.1   \n",
              "\n",
              "   VPmax (mbar)  VPact (mbar)  VPdef (mbar)  sh (g/kg)  H2OC (mmol/mol)  \\\n",
              "0          3.33          3.11          0.22       1.94             3.12   \n",
              "1          3.23          3.02          0.21       1.89             3.03   \n",
              "2          3.21          3.01          0.20       1.88             3.02   \n",
              "3          3.26          3.07          0.19       1.92             3.08   \n",
              "4          3.27          3.08          0.19       1.92             3.09   \n",
              "\n",
              "   rho (g/m**3)  wv (m/s)  max. wv (m/s)  wd (deg)  \n",
              "0       1307.75      1.03           1.75     152.3  \n",
              "1       1309.80      0.72           1.50     136.1  \n",
              "2       1310.24      0.19           0.63     171.6  \n",
              "3       1309.19      0.34           0.50     198.0  \n",
              "4       1309.00      0.32           0.63     214.3  "
            ],
            "text/html": [
              "\n",
              "  <div id=\"df-078dbb6c-89b3-42b1-a5c0-524d35f3896d\" class=\"colab-df-container\">\n",
              "    <div>\n",
              "<style scoped>\n",
              "    .dataframe tbody tr th:only-of-type {\n",
              "        vertical-align: middle;\n",
              "    }\n",
              "\n",
              "    .dataframe tbody tr th {\n",
              "        vertical-align: top;\n",
              "    }\n",
              "\n",
              "    .dataframe thead th {\n",
              "        text-align: right;\n",
              "    }\n",
              "</style>\n",
              "<table border=\"1\" class=\"dataframe\">\n",
              "  <thead>\n",
              "    <tr style=\"text-align: right;\">\n",
              "      <th></th>\n",
              "      <th>Date Time</th>\n",
              "      <th>p (mbar)</th>\n",
              "      <th>T (degC)</th>\n",
              "      <th>Tpot (K)</th>\n",
              "      <th>Tdew (degC)</th>\n",
              "      <th>rh (%)</th>\n",
              "      <th>VPmax (mbar)</th>\n",
              "      <th>VPact (mbar)</th>\n",
              "      <th>VPdef (mbar)</th>\n",
              "      <th>sh (g/kg)</th>\n",
              "      <th>H2OC (mmol/mol)</th>\n",
              "      <th>rho (g/m**3)</th>\n",
              "      <th>wv (m/s)</th>\n",
              "      <th>max. wv (m/s)</th>\n",
              "      <th>wd (deg)</th>\n",
              "    </tr>\n",
              "  </thead>\n",
              "  <tbody>\n",
              "    <tr>\n",
              "      <th>0</th>\n",
              "      <td>01.01.2009 00:10:00</td>\n",
              "      <td>996.52</td>\n",
              "      <td>-8.02</td>\n",
              "      <td>265.40</td>\n",
              "      <td>-8.90</td>\n",
              "      <td>93.3</td>\n",
              "      <td>3.33</td>\n",
              "      <td>3.11</td>\n",
              "      <td>0.22</td>\n",
              "      <td>1.94</td>\n",
              "      <td>3.12</td>\n",
              "      <td>1307.75</td>\n",
              "      <td>1.03</td>\n",
              "      <td>1.75</td>\n",
              "      <td>152.3</td>\n",
              "    </tr>\n",
              "    <tr>\n",
              "      <th>1</th>\n",
              "      <td>01.01.2009 00:20:00</td>\n",
              "      <td>996.57</td>\n",
              "      <td>-8.41</td>\n",
              "      <td>265.01</td>\n",
              "      <td>-9.28</td>\n",
              "      <td>93.4</td>\n",
              "      <td>3.23</td>\n",
              "      <td>3.02</td>\n",
              "      <td>0.21</td>\n",
              "      <td>1.89</td>\n",
              "      <td>3.03</td>\n",
              "      <td>1309.80</td>\n",
              "      <td>0.72</td>\n",
              "      <td>1.50</td>\n",
              "      <td>136.1</td>\n",
              "    </tr>\n",
              "    <tr>\n",
              "      <th>2</th>\n",
              "      <td>01.01.2009 00:30:00</td>\n",
              "      <td>996.53</td>\n",
              "      <td>-8.51</td>\n",
              "      <td>264.91</td>\n",
              "      <td>-9.31</td>\n",
              "      <td>93.9</td>\n",
              "      <td>3.21</td>\n",
              "      <td>3.01</td>\n",
              "      <td>0.20</td>\n",
              "      <td>1.88</td>\n",
              "      <td>3.02</td>\n",
              "      <td>1310.24</td>\n",
              "      <td>0.19</td>\n",
              "      <td>0.63</td>\n",
              "      <td>171.6</td>\n",
              "    </tr>\n",
              "    <tr>\n",
              "      <th>3</th>\n",
              "      <td>01.01.2009 00:40:00</td>\n",
              "      <td>996.51</td>\n",
              "      <td>-8.31</td>\n",
              "      <td>265.12</td>\n",
              "      <td>-9.07</td>\n",
              "      <td>94.2</td>\n",
              "      <td>3.26</td>\n",
              "      <td>3.07</td>\n",
              "      <td>0.19</td>\n",
              "      <td>1.92</td>\n",
              "      <td>3.08</td>\n",
              "      <td>1309.19</td>\n",
              "      <td>0.34</td>\n",
              "      <td>0.50</td>\n",
              "      <td>198.0</td>\n",
              "    </tr>\n",
              "    <tr>\n",
              "      <th>4</th>\n",
              "      <td>01.01.2009 00:50:00</td>\n",
              "      <td>996.51</td>\n",
              "      <td>-8.27</td>\n",
              "      <td>265.15</td>\n",
              "      <td>-9.04</td>\n",
              "      <td>94.1</td>\n",
              "      <td>3.27</td>\n",
              "      <td>3.08</td>\n",
              "      <td>0.19</td>\n",
              "      <td>1.92</td>\n",
              "      <td>3.09</td>\n",
              "      <td>1309.00</td>\n",
              "      <td>0.32</td>\n",
              "      <td>0.63</td>\n",
              "      <td>214.3</td>\n",
              "    </tr>\n",
              "  </tbody>\n",
              "</table>\n",
              "</div>\n",
              "    <div class=\"colab-df-buttons\">\n",
              "\n",
              "  <div class=\"colab-df-container\">\n",
              "    <button class=\"colab-df-convert\" onclick=\"convertToInteractive('df-078dbb6c-89b3-42b1-a5c0-524d35f3896d')\"\n",
              "            title=\"Convert this dataframe to an interactive table.\"\n",
              "            style=\"display:none;\">\n",
              "\n",
              "  <svg xmlns=\"http://www.w3.org/2000/svg\" height=\"24px\" viewBox=\"0 -960 960 960\">\n",
              "    <path d=\"M120-120v-720h720v720H120Zm60-500h600v-160H180v160Zm220 220h160v-160H400v160Zm0 220h160v-160H400v160ZM180-400h160v-160H180v160Zm440 0h160v-160H620v160ZM180-180h160v-160H180v160Zm440 0h160v-160H620v160Z\"/>\n",
              "  </svg>\n",
              "    </button>\n",
              "\n",
              "  <style>\n",
              "    .colab-df-container {\n",
              "      display:flex;\n",
              "      gap: 12px;\n",
              "    }\n",
              "\n",
              "    .colab-df-convert {\n",
              "      background-color: #E8F0FE;\n",
              "      border: none;\n",
              "      border-radius: 50%;\n",
              "      cursor: pointer;\n",
              "      display: none;\n",
              "      fill: #1967D2;\n",
              "      height: 32px;\n",
              "      padding: 0 0 0 0;\n",
              "      width: 32px;\n",
              "    }\n",
              "\n",
              "    .colab-df-convert:hover {\n",
              "      background-color: #E2EBFA;\n",
              "      box-shadow: 0px 1px 2px rgba(60, 64, 67, 0.3), 0px 1px 3px 1px rgba(60, 64, 67, 0.15);\n",
              "      fill: #174EA6;\n",
              "    }\n",
              "\n",
              "    .colab-df-buttons div {\n",
              "      margin-bottom: 4px;\n",
              "    }\n",
              "\n",
              "    [theme=dark] .colab-df-convert {\n",
              "      background-color: #3B4455;\n",
              "      fill: #D2E3FC;\n",
              "    }\n",
              "\n",
              "    [theme=dark] .colab-df-convert:hover {\n",
              "      background-color: #434B5C;\n",
              "      box-shadow: 0px 1px 3px 1px rgba(0, 0, 0, 0.15);\n",
              "      filter: drop-shadow(0px 1px 2px rgba(0, 0, 0, 0.3));\n",
              "      fill: #FFFFFF;\n",
              "    }\n",
              "  </style>\n",
              "\n",
              "    <script>\n",
              "      const buttonEl =\n",
              "        document.querySelector('#df-078dbb6c-89b3-42b1-a5c0-524d35f3896d button.colab-df-convert');\n",
              "      buttonEl.style.display =\n",
              "        google.colab.kernel.accessAllowed ? 'block' : 'none';\n",
              "\n",
              "      async function convertToInteractive(key) {\n",
              "        const element = document.querySelector('#df-078dbb6c-89b3-42b1-a5c0-524d35f3896d');\n",
              "        const dataTable =\n",
              "          await google.colab.kernel.invokeFunction('convertToInteractive',\n",
              "                                                    [key], {});\n",
              "        if (!dataTable) return;\n",
              "\n",
              "        const docLinkHtml = 'Like what you see? Visit the ' +\n",
              "          '<a target=\"_blank\" href=https://colab.research.google.com/notebooks/data_table.ipynb>data table notebook</a>'\n",
              "          + ' to learn more about interactive tables.';\n",
              "        element.innerHTML = '';\n",
              "        dataTable['output_type'] = 'display_data';\n",
              "        await google.colab.output.renderOutput(dataTable, element);\n",
              "        const docLink = document.createElement('div');\n",
              "        docLink.innerHTML = docLinkHtml;\n",
              "        element.appendChild(docLink);\n",
              "      }\n",
              "    </script>\n",
              "  </div>\n",
              "\n",
              "\n",
              "    <div id=\"df-d98f1bdf-65e3-4a52-a67d-33a72b9c277b\">\n",
              "      <button class=\"colab-df-quickchart\" onclick=\"quickchart('df-d98f1bdf-65e3-4a52-a67d-33a72b9c277b')\"\n",
              "                title=\"Suggest charts\"\n",
              "                style=\"display:none;\">\n",
              "\n",
              "<svg xmlns=\"http://www.w3.org/2000/svg\" height=\"24px\"viewBox=\"0 0 24 24\"\n",
              "     width=\"24px\">\n",
              "    <g>\n",
              "        <path d=\"M19 3H5c-1.1 0-2 .9-2 2v14c0 1.1.9 2 2 2h14c1.1 0 2-.9 2-2V5c0-1.1-.9-2-2-2zM9 17H7v-7h2v7zm4 0h-2V7h2v10zm4 0h-2v-4h2v4z\"/>\n",
              "    </g>\n",
              "</svg>\n",
              "      </button>\n",
              "\n",
              "<style>\n",
              "  .colab-df-quickchart {\n",
              "      --bg-color: #E8F0FE;\n",
              "      --fill-color: #1967D2;\n",
              "      --hover-bg-color: #E2EBFA;\n",
              "      --hover-fill-color: #174EA6;\n",
              "      --disabled-fill-color: #AAA;\n",
              "      --disabled-bg-color: #DDD;\n",
              "  }\n",
              "\n",
              "  [theme=dark] .colab-df-quickchart {\n",
              "      --bg-color: #3B4455;\n",
              "      --fill-color: #D2E3FC;\n",
              "      --hover-bg-color: #434B5C;\n",
              "      --hover-fill-color: #FFFFFF;\n",
              "      --disabled-bg-color: #3B4455;\n",
              "      --disabled-fill-color: #666;\n",
              "  }\n",
              "\n",
              "  .colab-df-quickchart {\n",
              "    background-color: var(--bg-color);\n",
              "    border: none;\n",
              "    border-radius: 50%;\n",
              "    cursor: pointer;\n",
              "    display: none;\n",
              "    fill: var(--fill-color);\n",
              "    height: 32px;\n",
              "    padding: 0;\n",
              "    width: 32px;\n",
              "  }\n",
              "\n",
              "  .colab-df-quickchart:hover {\n",
              "    background-color: var(--hover-bg-color);\n",
              "    box-shadow: 0 1px 2px rgba(60, 64, 67, 0.3), 0 1px 3px 1px rgba(60, 64, 67, 0.15);\n",
              "    fill: var(--button-hover-fill-color);\n",
              "  }\n",
              "\n",
              "  .colab-df-quickchart-complete:disabled,\n",
              "  .colab-df-quickchart-complete:disabled:hover {\n",
              "    background-color: var(--disabled-bg-color);\n",
              "    fill: var(--disabled-fill-color);\n",
              "    box-shadow: none;\n",
              "  }\n",
              "\n",
              "  .colab-df-spinner {\n",
              "    border: 2px solid var(--fill-color);\n",
              "    border-color: transparent;\n",
              "    border-bottom-color: var(--fill-color);\n",
              "    animation:\n",
              "      spin 1s steps(1) infinite;\n",
              "  }\n",
              "\n",
              "  @keyframes spin {\n",
              "    0% {\n",
              "      border-color: transparent;\n",
              "      border-bottom-color: var(--fill-color);\n",
              "      border-left-color: var(--fill-color);\n",
              "    }\n",
              "    20% {\n",
              "      border-color: transparent;\n",
              "      border-left-color: var(--fill-color);\n",
              "      border-top-color: var(--fill-color);\n",
              "    }\n",
              "    30% {\n",
              "      border-color: transparent;\n",
              "      border-left-color: var(--fill-color);\n",
              "      border-top-color: var(--fill-color);\n",
              "      border-right-color: var(--fill-color);\n",
              "    }\n",
              "    40% {\n",
              "      border-color: transparent;\n",
              "      border-right-color: var(--fill-color);\n",
              "      border-top-color: var(--fill-color);\n",
              "    }\n",
              "    60% {\n",
              "      border-color: transparent;\n",
              "      border-right-color: var(--fill-color);\n",
              "    }\n",
              "    80% {\n",
              "      border-color: transparent;\n",
              "      border-right-color: var(--fill-color);\n",
              "      border-bottom-color: var(--fill-color);\n",
              "    }\n",
              "    90% {\n",
              "      border-color: transparent;\n",
              "      border-bottom-color: var(--fill-color);\n",
              "    }\n",
              "  }\n",
              "</style>\n",
              "\n",
              "      <script>\n",
              "        async function quickchart(key) {\n",
              "          const quickchartButtonEl =\n",
              "            document.querySelector('#' + key + ' button');\n",
              "          quickchartButtonEl.disabled = true;  // To prevent multiple clicks.\n",
              "          quickchartButtonEl.classList.add('colab-df-spinner');\n",
              "          try {\n",
              "            const charts = await google.colab.kernel.invokeFunction(\n",
              "                'suggestCharts', [key], {});\n",
              "          } catch (error) {\n",
              "            console.error('Error during call to suggestCharts:', error);\n",
              "          }\n",
              "          quickchartButtonEl.classList.remove('colab-df-spinner');\n",
              "          quickchartButtonEl.classList.add('colab-df-quickchart-complete');\n",
              "        }\n",
              "        (() => {\n",
              "          let quickchartButtonEl =\n",
              "            document.querySelector('#df-d98f1bdf-65e3-4a52-a67d-33a72b9c277b button');\n",
              "          quickchartButtonEl.style.display =\n",
              "            google.colab.kernel.accessAllowed ? 'block' : 'none';\n",
              "        })();\n",
              "      </script>\n",
              "    </div>\n",
              "\n",
              "    </div>\n",
              "  </div>\n"
            ],
            "application/vnd.google.colaboratory.intrinsic+json": {
              "type": "dataframe",
              "variable_name": "df"
            }
          },
          "metadata": {},
          "execution_count": 6
        }
      ]
    },
    {
      "cell_type": "code",
      "source": [
        "df.sort_values('Date Time', inplace=True)"
      ],
      "metadata": {
        "id": "WhJreWySkpn9"
      },
      "id": "WhJreWySkpn9",
      "execution_count": 8,
      "outputs": []
    },
    {
      "cell_type": "code",
      "source": [
        "df.shape"
      ],
      "metadata": {
        "id": "0PuA74L9oW8T",
        "outputId": "6d7e7642-7b4d-425d-8be9-7559b0d084b7",
        "colab": {
          "base_uri": "https://localhost:8080/"
        }
      },
      "id": "0PuA74L9oW8T",
      "execution_count": 10,
      "outputs": [
        {
          "output_type": "execute_result",
          "data": {
            "text/plain": [
              "(420551, 15)"
            ]
          },
          "metadata": {},
          "execution_count": 10
        }
      ]
    },
    {
      "cell_type": "code",
      "source": [
        "# Convert the 'Date Time' column to datetime objects\n",
        "df['Date Time'] = pd.to_datetime(df['Date Time'], format=\"%d.%m.%Y %H:%M:%S\")"
      ],
      "metadata": {
        "id": "hmqI59-ammU3"
      },
      "id": "hmqI59-ammU3",
      "execution_count": 15,
      "outputs": []
    },
    {
      "cell_type": "code",
      "source": [
        "#filter rows = 12:00\n",
        "noon_df = df[df['Date Time'].dt.hour == 12].copy()"
      ],
      "metadata": {
        "id": "QsS7L4G9oebk"
      },
      "id": "QsS7L4G9oebk",
      "execution_count": 19,
      "outputs": []
    },
    {
      "cell_type": "code",
      "source": [
        "# Reset index for cleanliness\n",
        "noon_df.reset_index(drop=True, inplace=True)"
      ],
      "metadata": {
        "id": "bA3vCspmrovq"
      },
      "id": "bA3vCspmrovq",
      "execution_count": 20,
      "outputs": []
    },
    {
      "cell_type": "code",
      "source": [
        "import numpy as np"
      ],
      "metadata": {
        "id": "nx6L6_yGt0DL"
      },
      "id": "nx6L6_yGt0DL",
      "execution_count": 23,
      "outputs": []
    },
    {
      "cell_type": "code",
      "source": [
        "def create_sequences(data, seq_length):\n",
        "    X, y = [], []\n",
        "    for i in range(len(data) - seq_length):\n",
        "        X.append(data[i:i+seq_length])\n",
        "        y.append(data[i+seq_length])\n",
        "    return np.array(X), np.array(y)"
      ],
      "metadata": {
        "id": "9Fg19-MWtkYr"
      },
      "id": "9Fg19-MWtkYr",
      "execution_count": 24,
      "outputs": []
    },
    {
      "cell_type": "code",
      "source": [
        "# Extract the 'value' column as a numpy array\n",
        "values = noon_df['T (degC)'].values"
      ],
      "metadata": {
        "id": "k0zRz4ACto9G"
      },
      "id": "k0zRz4ACto9G",
      "execution_count": 26,
      "outputs": []
    },
    {
      "cell_type": "code",
      "source": [
        "# Define sequence length (e.g., 30 days)\n",
        "seq_length = 30"
      ],
      "metadata": {
        "id": "qAO9fO7btq_u"
      },
      "id": "qAO9fO7btq_u",
      "execution_count": 27,
      "outputs": []
    },
    {
      "cell_type": "code",
      "source": [
        "# Create sequences\n",
        "X, y = create_sequences(values, seq_length)"
      ],
      "metadata": {
        "id": "_i8uPtCsvHJo"
      },
      "id": "_i8uPtCsvHJo",
      "execution_count": 28,
      "outputs": []
    },
    {
      "cell_type": "code",
      "source": [
        "# Reshape X for RNN input (samples, timesteps, features)\n",
        "X = X.reshape((X.shape[0], X.shape[1], 1))"
      ],
      "metadata": {
        "id": "BDvc8cGcvJRg"
      },
      "id": "BDvc8cGcvJRg",
      "execution_count": 29,
      "outputs": []
    },
    {
      "cell_type": "code",
      "source": [
        "train_size = int(0.8 * len(X))\n",
        "X_train, X_test = X[:train_size], X[train_size:]\n",
        "y_train, y_test = y[:train_size], y[train_size:]"
      ],
      "metadata": {
        "id": "-ULsJHFDvJ1u"
      },
      "id": "-ULsJHFDvJ1u",
      "execution_count": 30,
      "outputs": []
    },
    {
      "cell_type": "code",
      "source": [
        "from tensorflow.keras.models import Sequential\n",
        "from tensorflow.keras.layers import LSTM, Dense"
      ],
      "metadata": {
        "id": "KHJrmKF0vUnj"
      },
      "id": "KHJrmKF0vUnj",
      "execution_count": 31,
      "outputs": []
    },
    {
      "cell_type": "code",
      "source": [
        "model = Sequential()\n",
        "model.add(LSTM(50, activation='relu', input_shape=(seq_length, 1)))\n",
        "model.add(Dense(1))\n",
        "model.compile(optimizer='adam', loss='mse')\n",
        "\n",
        "# Train the model\n",
        "model.fit(X_train, y_train, epochs=50, batch_size=32, validation_data=(X_test, y_test), verbose=2)"
      ],
      "metadata": {
        "id": "M3BcfC-pvdNl",
        "outputId": "f863fcfc-9853-4fbe-c3bb-6f2aff3e2ead",
        "colab": {
          "base_uri": "https://localhost:8080/"
        }
      },
      "id": "M3BcfC-pvdNl",
      "execution_count": 32,
      "outputs": [
        {
          "output_type": "stream",
          "name": "stderr",
          "text": [
            "/usr/local/lib/python3.11/dist-packages/keras/src/layers/rnn/rnn.py:200: UserWarning: Do not pass an `input_shape`/`input_dim` argument to a layer. When using Sequential models, prefer using an `Input(shape)` object as the first layer in the model instead.\n",
            "  super().__init__(**kwargs)\n"
          ]
        },
        {
          "output_type": "stream",
          "name": "stdout",
          "text": [
            "Epoch 1/50\n",
            "438/438 - 9s - 20ms/step - loss: 52.2524 - val_loss: 8.3708\n",
            "Epoch 2/50\n",
            "438/438 - 7s - 16ms/step - loss: 7.7313 - val_loss: 7.9716\n",
            "Epoch 3/50\n",
            "438/438 - 6s - 13ms/step - loss: 7.1406 - val_loss: 7.2460\n",
            "Epoch 4/50\n",
            "438/438 - 11s - 25ms/step - loss: 6.6197 - val_loss: 7.3936\n",
            "Epoch 5/50\n",
            "438/438 - 8s - 17ms/step - loss: 6.5179 - val_loss: 7.1376\n",
            "Epoch 6/50\n",
            "438/438 - 9s - 19ms/step - loss: 6.4665 - val_loss: 6.9148\n",
            "Epoch 7/50\n",
            "438/438 - 10s - 23ms/step - loss: 6.2643 - val_loss: 6.7928\n",
            "Epoch 8/50\n",
            "438/438 - 7s - 16ms/step - loss: 6.2989 - val_loss: 6.7949\n",
            "Epoch 9/50\n",
            "438/438 - 6s - 13ms/step - loss: 6.1573 - val_loss: 6.4099\n",
            "Epoch 10/50\n",
            "438/438 - 10s - 23ms/step - loss: 6.0373 - val_loss: 6.4701\n",
            "Epoch 11/50\n",
            "438/438 - 7s - 17ms/step - loss: 5.9881 - val_loss: 6.4408\n",
            "Epoch 12/50\n",
            "438/438 - 9s - 20ms/step - loss: 5.9864 - val_loss: 6.4732\n",
            "Epoch 13/50\n",
            "438/438 - 7s - 16ms/step - loss: 5.9216 - val_loss: 6.6493\n",
            "Epoch 14/50\n",
            "438/438 - 11s - 24ms/step - loss: 5.7929 - val_loss: 6.6616\n",
            "Epoch 15/50\n",
            "438/438 - 9s - 20ms/step - loss: 5.8733 - val_loss: 6.2707\n",
            "Epoch 16/50\n",
            "438/438 - 11s - 25ms/step - loss: 5.8031 - val_loss: 6.2513\n",
            "Epoch 17/50\n",
            "438/438 - 10s - 23ms/step - loss: 5.6549 - val_loss: 6.1898\n",
            "Epoch 18/50\n",
            "438/438 - 11s - 24ms/step - loss: 5.6214 - val_loss: 6.2213\n",
            "Epoch 19/50\n",
            "438/438 - 12s - 27ms/step - loss: 5.6525 - val_loss: 6.3456\n",
            "Epoch 20/50\n",
            "438/438 - 7s - 15ms/step - loss: 5.6167 - val_loss: 6.5729\n",
            "Epoch 21/50\n",
            "438/438 - 10s - 22ms/step - loss: 5.6282 - val_loss: 6.3633\n",
            "Epoch 22/50\n",
            "438/438 - 11s - 24ms/step - loss: 5.5366 - val_loss: 5.9198\n",
            "Epoch 23/50\n",
            "438/438 - 10s - 23ms/step - loss: 5.5596 - val_loss: 6.3951\n",
            "Epoch 24/50\n",
            "438/438 - 7s - 16ms/step - loss: 5.4541 - val_loss: 6.2993\n",
            "Epoch 25/50\n",
            "438/438 - 9s - 21ms/step - loss: 5.4681 - val_loss: 6.4660\n",
            "Epoch 26/50\n",
            "438/438 - 7s - 16ms/step - loss: 5.4542 - val_loss: 6.4501\n",
            "Epoch 27/50\n",
            "438/438 - 6s - 14ms/step - loss: 5.3825 - val_loss: 6.1928\n",
            "Epoch 28/50\n",
            "438/438 - 7s - 16ms/step - loss: 5.4696 - val_loss: 6.0668\n",
            "Epoch 29/50\n",
            "438/438 - 6s - 14ms/step - loss: 5.4038 - val_loss: 6.2726\n",
            "Epoch 30/50\n",
            "438/438 - 7s - 16ms/step - loss: 5.4121 - val_loss: 6.3359\n",
            "Epoch 31/50\n",
            "438/438 - 6s - 14ms/step - loss: 5.3473 - val_loss: 6.0107\n",
            "Epoch 32/50\n",
            "438/438 - 7s - 16ms/step - loss: 5.3350 - val_loss: 6.2451\n",
            "Epoch 33/50\n",
            "438/438 - 6s - 14ms/step - loss: 5.3051 - val_loss: 6.2054\n",
            "Epoch 34/50\n",
            "438/438 - 7s - 16ms/step - loss: 5.3365 - val_loss: 6.4353\n",
            "Epoch 35/50\n",
            "438/438 - 6s - 13ms/step - loss: 5.2679 - val_loss: 6.2577\n",
            "Epoch 36/50\n",
            "438/438 - 7s - 16ms/step - loss: 5.2527 - val_loss: 6.1453\n",
            "Epoch 37/50\n",
            "438/438 - 6s - 13ms/step - loss: 5.2387 - val_loss: 6.2809\n",
            "Epoch 38/50\n",
            "438/438 - 10s - 23ms/step - loss: 5.2649 - val_loss: 6.3428\n",
            "Epoch 39/50\n",
            "438/438 - 10s - 24ms/step - loss: 5.1515 - val_loss: 6.1437\n",
            "Epoch 40/50\n",
            "438/438 - 11s - 25ms/step - loss: 5.2057 - val_loss: 6.0965\n",
            "Epoch 41/50\n",
            "438/438 - 10s - 23ms/step - loss: 5.1875 - val_loss: 6.2903\n",
            "Epoch 42/50\n",
            "438/438 - 6s - 13ms/step - loss: 5.1265 - val_loss: 6.1411\n",
            "Epoch 43/50\n",
            "438/438 - 7s - 16ms/step - loss: 5.1054 - val_loss: 6.2081\n",
            "Epoch 44/50\n",
            "438/438 - 6s - 13ms/step - loss: 5.0933 - val_loss: 6.3708\n",
            "Epoch 45/50\n",
            "438/438 - 11s - 24ms/step - loss: 5.0239 - val_loss: 6.1608\n",
            "Epoch 46/50\n",
            "438/438 - 11s - 25ms/step - loss: 4.9752 - val_loss: 6.2723\n",
            "Epoch 47/50\n",
            "438/438 - 10s - 23ms/step - loss: 5.0046 - val_loss: 6.4345\n",
            "Epoch 48/50\n",
            "438/438 - 6s - 13ms/step - loss: 4.9392 - val_loss: 6.0775\n",
            "Epoch 49/50\n",
            "438/438 - 7s - 16ms/step - loss: 4.9699 - val_loss: 5.9551\n",
            "Epoch 50/50\n",
            "438/438 - 9s - 21ms/step - loss: 4.9206 - val_loss: 6.4887\n"
          ]
        },
        {
          "output_type": "execute_result",
          "data": {
            "text/plain": [
              "<keras.src.callbacks.history.History at 0x78f01ef34c10>"
            ]
          },
          "metadata": {},
          "execution_count": 32
        }
      ]
    },
    {
      "cell_type": "code",
      "source": [
        "mse = model.evaluate(X_test, y_test)\n",
        "print(f'Test MSE: {mse}')"
      ],
      "metadata": {
        "id": "MI547pcevd6Z",
        "outputId": "f1ee7fbf-c88c-4b8d-d9aa-ccbe704b1445",
        "colab": {
          "base_uri": "https://localhost:8080/"
        }
      },
      "id": "MI547pcevd6Z",
      "execution_count": 33,
      "outputs": [
        {
          "output_type": "stream",
          "name": "stdout",
          "text": [
            "\u001b[1m110/110\u001b[0m \u001b[32m━━━━━━━━━━━━━━━━━━━━\u001b[0m\u001b[37m\u001b[0m \u001b[1m1s\u001b[0m 6ms/step - loss: 6.4935\n",
            "Test MSE: 6.488713264465332\n"
          ]
        }
      ]
    },
    {
      "cell_type": "code",
      "source": [
        "# Optionally, make predictions\n",
        "predictions = model.predict(X_test)"
      ],
      "metadata": {
        "id": "_yj6Hm-3vnpm",
        "outputId": "8e20f2c3-2d23-4bd7-de5b-9b5bb9822040",
        "colab": {
          "base_uri": "https://localhost:8080/"
        }
      },
      "id": "_yj6Hm-3vnpm",
      "execution_count": 34,
      "outputs": [
        {
          "output_type": "stream",
          "name": "stdout",
          "text": [
            "\u001b[1m110/110\u001b[0m \u001b[32m━━━━━━━━━━━━━━━━━━━━\u001b[0m\u001b[37m\u001b[0m \u001b[1m1s\u001b[0m 11ms/step\n"
          ]
        }
      ]
    },
    {
      "cell_type": "code",
      "source": [
        "#Integrate into an End-to-End Pipeline\n",
        "def build_pipeline(df, seq_length=30, train_ratio=0.8):\n",
        "    # Filter data for noon\n",
        "    noon_df = df[df['Date Time'].dt.hour == 12].copy()\n",
        "    values = noon_df['T (degC)'].values\n",
        "\n",
        "    # Create sequences\n",
        "    X, y = create_sequences(values, seq_length)\n",
        "    X = X.reshape((X.shape[0], X.shape[1], 1))\n",
        "\n",
        "    # Split into train/test\n",
        "    train_size = int(train_ratio * len(X))\n",
        "    X_train, X_test = X[:train_size], X[train_size:]\n",
        "    y_train, y_test = y[:train_size], y[train_size:]\n",
        "\n",
        "    # Build and train model\n",
        "    model = Sequential()\n",
        "    model.add(LSTM(50, activation='relu', input_shape=(seq_length, 1)))\n",
        "    model.add(Dense(1))\n",
        "    model.compile(optimizer='adam', loss='mse')\n",
        "    model.fit(X_train, y_train, epochs=50, batch_size=32, validation_data=(X_test, y_test), verbose=2)\n",
        "\n",
        "    # Evaluate\n",
        "    mse = model.evaluate(X_test, y_test)\n",
        "    print(f'Test MSE: {mse}')\n",
        "\n",
        "    return model\n",
        "\n",
        "# Usage\n",
        "model = build_pipeline(df)"
      ],
      "metadata": {
        "id": "jDA8SEZjxHsR",
        "outputId": "f76032be-4ab3-496d-843b-6e51fe2fc449",
        "colab": {
          "base_uri": "https://localhost:8080/"
        }
      },
      "id": "jDA8SEZjxHsR",
      "execution_count": 38,
      "outputs": [
        {
          "output_type": "stream",
          "name": "stdout",
          "text": [
            "Epoch 1/50\n",
            "438/438 - 9s - 21ms/step - loss: 23.3261 - val_loss: 8.6264\n",
            "Epoch 2/50\n",
            "438/438 - 9s - 20ms/step - loss: 7.8655 - val_loss: 7.5475\n",
            "Epoch 3/50\n",
            "438/438 - 10s - 23ms/step - loss: 7.0613 - val_loss: 7.2429\n",
            "Epoch 4/50\n",
            "438/438 - 7s - 16ms/step - loss: 6.7564 - val_loss: 6.8576\n",
            "Epoch 5/50\n",
            "438/438 - 10s - 23ms/step - loss: 6.4495 - val_loss: 6.9673\n",
            "Epoch 6/50\n",
            "438/438 - 6s - 13ms/step - loss: 6.3956 - val_loss: 6.7741\n",
            "Epoch 7/50\n",
            "438/438 - 12s - 27ms/step - loss: 6.1911 - val_loss: 6.4996\n",
            "Epoch 8/50\n",
            "438/438 - 7s - 16ms/step - loss: 6.0788 - val_loss: 6.4869\n",
            "Epoch 9/50\n",
            "438/438 - 6s - 14ms/step - loss: 6.0514 - val_loss: 6.2299\n",
            "Epoch 10/50\n",
            "438/438 - 6s - 15ms/step - loss: 5.9170 - val_loss: 6.1471\n",
            "Epoch 11/50\n",
            "438/438 - 10s - 22ms/step - loss: 5.8264 - val_loss: 6.1433\n",
            "Epoch 12/50\n",
            "438/438 - 10s - 23ms/step - loss: 5.8133 - val_loss: 6.0646\n",
            "Epoch 13/50\n",
            "438/438 - 10s - 23ms/step - loss: 5.7435 - val_loss: 6.2304\n",
            "Epoch 14/50\n",
            "438/438 - 11s - 25ms/step - loss: 5.7079 - val_loss: 6.1214\n",
            "Epoch 15/50\n",
            "438/438 - 10s - 24ms/step - loss: 5.7292 - val_loss: 6.1259\n",
            "Epoch 16/50\n",
            "438/438 - 6s - 14ms/step - loss: 5.6677 - val_loss: 6.6072\n",
            "Epoch 17/50\n",
            "438/438 - 10s - 23ms/step - loss: 5.6830 - val_loss: 6.0290\n",
            "Epoch 18/50\n",
            "438/438 - 11s - 24ms/step - loss: 5.6219 - val_loss: 6.5765\n",
            "Epoch 19/50\n",
            "438/438 - 11s - 25ms/step - loss: 5.6050 - val_loss: 6.4364\n",
            "Epoch 20/50\n",
            "438/438 - 10s - 24ms/step - loss: 5.5669 - val_loss: 6.1924\n",
            "Epoch 21/50\n",
            "438/438 - 9s - 21ms/step - loss: 5.6024 - val_loss: 5.9233\n",
            "Epoch 22/50\n",
            "438/438 - 7s - 16ms/step - loss: 5.5777 - val_loss: 6.0438\n",
            "Epoch 23/50\n",
            "438/438 - 6s - 13ms/step - loss: 5.5081 - val_loss: 6.3585\n",
            "Epoch 24/50\n",
            "438/438 - 10s - 24ms/step - loss: 5.4750 - val_loss: 6.0590\n",
            "Epoch 25/50\n",
            "438/438 - 10s - 23ms/step - loss: 5.5113 - val_loss: 6.1801\n",
            "Epoch 26/50\n",
            "438/438 - 10s - 23ms/step - loss: 5.5431 - val_loss: 6.0803\n",
            "Epoch 27/50\n",
            "438/438 - 11s - 26ms/step - loss: 5.4264 - val_loss: 6.2560\n",
            "Epoch 28/50\n",
            "438/438 - 6s - 13ms/step - loss: 5.7820 - val_loss: 6.0266\n",
            "Epoch 29/50\n",
            "438/438 - 10s - 24ms/step - loss: 5.4490 - val_loss: 6.1079\n",
            "Epoch 30/50\n",
            "438/438 - 10s - 23ms/step - loss: 5.4556 - val_loss: 6.0776\n",
            "Epoch 31/50\n",
            "438/438 - 7s - 16ms/step - loss: 5.4213 - val_loss: 5.9673\n",
            "Epoch 32/50\n",
            "438/438 - 9s - 21ms/step - loss: 5.3509 - val_loss: 6.3709\n",
            "Epoch 33/50\n",
            "438/438 - 10s - 23ms/step - loss: 5.4142 - val_loss: 6.0097\n",
            "Epoch 34/50\n",
            "438/438 - 7s - 16ms/step - loss: 5.3428 - val_loss: 6.1046\n",
            "Epoch 35/50\n",
            "438/438 - 6s - 13ms/step - loss: 5.3550 - val_loss: 5.9559\n",
            "Epoch 36/50\n",
            "438/438 - 7s - 16ms/step - loss: 5.3486 - val_loss: 5.9574\n",
            "Epoch 37/50\n",
            "438/438 - 12s - 27ms/step - loss: 5.3635 - val_loss: 6.3274\n",
            "Epoch 38/50\n",
            "438/438 - 6s - 13ms/step - loss: 5.2800 - val_loss: 5.9810\n",
            "Epoch 39/50\n",
            "438/438 - 10s - 24ms/step - loss: 5.3055 - val_loss: 6.2764\n",
            "Epoch 40/50\n",
            "438/438 - 7s - 15ms/step - loss: 5.2514 - val_loss: 7.1649\n",
            "Epoch 41/50\n",
            "438/438 - 9s - 22ms/step - loss: 5.2458 - val_loss: 6.1504\n",
            "Epoch 42/50\n",
            "438/438 - 7s - 16ms/step - loss: 5.1846 - val_loss: 6.1169\n",
            "Epoch 43/50\n",
            "438/438 - 10s - 23ms/step - loss: 5.2585 - val_loss: 6.3784\n",
            "Epoch 44/50\n",
            "438/438 - 9s - 21ms/step - loss: 5.2787 - val_loss: 6.0455\n",
            "Epoch 45/50\n",
            "438/438 - 10s - 23ms/step - loss: 5.1570 - val_loss: 6.2631\n",
            "Epoch 46/50\n",
            "438/438 - 7s - 16ms/step - loss: 5.2125 - val_loss: 6.4127\n",
            "Epoch 47/50\n",
            "438/438 - 10s - 24ms/step - loss: 5.1244 - val_loss: 6.3030\n",
            "Epoch 48/50\n",
            "438/438 - 6s - 13ms/step - loss: 5.3143 - val_loss: 6.0738\n",
            "Epoch 49/50\n",
            "438/438 - 11s - 25ms/step - loss: 5.1400 - val_loss: 6.3979\n",
            "Epoch 50/50\n",
            "438/438 - 10s - 24ms/step - loss: 5.1382 - val_loss: 6.1083\n",
            "\u001b[1m110/110\u001b[0m \u001b[32m━━━━━━━━━━━━━━━━━━━━\u001b[0m\u001b[37m\u001b[0m \u001b[1m1s\u001b[0m 6ms/step - loss: 6.3478\n",
            "Test MSE: 6.108335494995117\n"
          ]
        }
      ]
    },
    {
      "cell_type": "code",
      "source": [],
      "metadata": {
        "id": "WAO4b6ugxRCL"
      },
      "id": "WAO4b6ugxRCL",
      "execution_count": null,
      "outputs": []
    }
  ],
  "metadata": {
    "kernelspec": {
      "display_name": "Python 3",
      "language": "python",
      "name": "python3"
    },
    "language_info": {
      "codemirror_mode": {
        "name": "ipython",
        "version": 3
      },
      "file_extension": ".py",
      "mimetype": "text/x-python",
      "name": "python",
      "nbconvert_exporter": "python",
      "pygments_lexer": "ipython3",
      "version": "3.8.5"
    },
    "colab": {
      "provenance": []
    }
  },
  "nbformat": 4,
  "nbformat_minor": 5
}